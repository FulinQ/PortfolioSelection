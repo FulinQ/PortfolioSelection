{
 "cells": [
  {
   "cell_type": "code",
   "execution_count": 7,
   "metadata": {},
   "outputs": [],
   "source": [
    "import pandas as pd # type: ignore\n",
    "import yfinance as yf # type: ignore\n",
    "from yahoofinancials import YahooFinancials # type: ignore\n",
    "import numpy as np # type: ignore\n",
    "import os\n",
    "\n",
    "os.chdir('/Users/fulinq/Documents/KMITL/FinancialEngineering/PortfolioSelection')\n",
    "\n",
    "pd.set_option('display.max_columns', 74)\n",
    "pd.set_option('display.width', 500)"
   ]
  },
  {
   "cell_type": "code",
   "execution_count": 3,
   "metadata": {},
   "outputs": [],
   "source": [
    "#get uppered stock name for yfinance\n",
    "\n",
    "# lst = list()\n",
    "# while True:\n",
    "#     inp = input().strip()\n",
    "#     if inp == '':\n",
    "#         break\n",
    "#     inp = inp.upper()           # US Stock\n",
    "#     # inp = inp.upper() + '.BK'   # Thai Stock\n",
    "#     lst.append(inp)\n",
    "\n",
    "# print(lst)"
   ]
  },
  {
   "cell_type": "code",
   "execution_count": 8,
   "metadata": {},
   "outputs": [
    {
     "name": "stdout",
     "output_type": "stream",
     "text": [
      "['AAPL', 'AMT', 'AMZN', 'APD', 'BAC', 'BX', 'CCZ', 'EP', 'JNJ', 'JPM', 'PCG', 'SHEL', 'T', 'TMO', 'TSLA', 'TSM', 'VRTX', 'VZ', 'WM', 'XOM']\n"
     ]
    }
   ],
   "source": [
    "lst = ['AAPL', 'AMT', 'AMZN', 'APD', 'BAC', 'BX', 'CCZ', 'EP', 'JNJ', 'JPM', 'PCG', 'SHEL', 'T', 'TMO', 'TSLA', 'TSM', 'VRTX', 'VZ', 'WM', 'XOM']\n",
    "print(lst)"
   ]
  },
  {
   "cell_type": "code",
   "execution_count": 9,
   "metadata": {},
   "outputs": [],
   "source": [
    "stockList = ['AAPL', 'AMT', 'AMZN', \n",
    "             'APD', 'BAC', 'BX', \n",
    "             'CCZ', 'EP', 'JNJ', \n",
    "             'JPM', 'PCG', 'SHEL', \n",
    "             'T', 'TMO', 'TSLA', \n",
    "             'TSM', 'VRTX', 'VZ', \n",
    "             'WM', 'XOM']\n",
    "index = '^IXIC'\n",
    "stockList.insert(0, index)\n",
    "fileName = 'RawPrice.xlsx'\n",
    "sDate = '2021-01-01'  #yyyy-mm-dd\n",
    "eDate = '2025-01-31'  #yyyy-mm-dd"
   ]
  },
  {
   "cell_type": "code",
   "execution_count": null,
   "metadata": {},
   "outputs": [
    {
     "name": "stdout",
     "output_type": "stream",
     "text": [
      "        Date  Close ^IXIC     ^IXIC  Close AAPL      AAPL  Close AMT       AMT  Close AMZN      AMZN  Close APD       APD  Close BAC       BAC  Close BX        BX  Close CCZ       CCZ  Close EP        EP  Close JNJ       JNJ  Close JPM       JPM  Close PCG       PCG  Close SHEL      SHEL  Close T         T  Close TMO       TMO  Close TSLA      TSLA  Close TSM       TSM  Close VRTX      VRTX  Close VZ        VZ  Close WM        WM  Close XOM       XOM\n",
      "1 2021-02-01     13192.35  0.009265      118.57 -0.084619     193.17 -0.050669      154.65 -0.035945     231.84 -0.042684      31.47  0.157280     60.05  0.029919      56.07 -0.100695      2.00  0.145026     141.69 -0.029006     132.26  0.141491      10.47 -0.084222       35.46  0.106426    15.89 -0.003142     445.78 -0.124396      225.17 -0.161023     117.37  0.035734      212.55 -0.074894     43.50  0.020672    104.02 -0.003934      46.07  0.192839\n",
      "2 2021-03-01     13246.87  0.004124      119.62  0.008817     213.67  0.100862      154.70  0.000323     255.17  0.095883      35.08  0.108596     65.54  0.087483      59.69  0.062564      6.48  1.175573     147.87  0.042692     136.81  0.033823      11.67  0.108507       34.17 -0.037057    17.25  0.082122     452.02  0.013901      222.64 -0.011300     110.23 -0.062762      214.89  0.010949     45.75  0.050431    121.03  0.151455      48.11  0.043328\n",
      "3 2021-04-01     13962.68  0.052627      128.74  0.073475     227.71  0.063640      173.37  0.113940     263.04  0.030376      36.93  0.051393     77.81  0.171609      56.47 -0.055455      7.60  0.159428     146.41 -0.009923     138.23  0.010326      11.28 -0.033990       33.12 -0.031211    17.90  0.036989     466.01  0.030481      236.48  0.060308     109.21 -0.009296      218.20  0.015286     45.46 -0.006359    130.04  0.071804      49.32  0.024840\n",
      "4 2021-05-01     13748.74 -0.015441      122.03 -0.053528     229.51  0.007874      161.15 -0.073092     273.24  0.038044      38.63  0.045005     82.24  0.055372      61.55  0.086140      8.53  0.115441     152.28  0.039310     148.47  0.071464      10.10 -0.110496       33.65  0.015876    17.15 -0.042803     465.28 -0.001568      208.41 -0.126356     109.79  0.005297      208.63 -0.044850     44.92 -0.011950    132.59  0.019420      50.30  0.019675\n",
      "5 2021-06-01     14503.95  0.053474      134.35  0.096181     242.70  0.055880      172.01  0.065217     262.31 -0.040824      37.57 -0.027823     86.21  0.047144      58.41 -0.052363      7.12 -0.180682     149.14 -0.020835     140.60 -0.054464      10.13  0.002966       35.52  0.054083    16.77 -0.022407     499.94  0.071849      226.57  0.083547     112.40  0.023494      201.63 -0.034128     44.55 -0.008271    132.06 -0.004005      55.15  0.092052\n"
     ]
    }
   ],
   "source": [
    "df = pd.DataFrame()\n",
    "\n",
    "for i, inp in enumerate(stockList):\n",
    "    selected_df = yf.download(inp, \n",
    "                              start=sDate, \n",
    "                              end=eDate, \n",
    "                              interval='1mo', \n",
    "                              rounding=2, \n",
    "                              progress=False)\n",
    "    \n",
    "    # Flat the multiindex\n",
    "    if isinstance(selected_df.columns, pd.MultiIndex):\n",
    "        selected_df.columns = selected_df.columns.get_level_values(0)\n",
    "    \n",
    "    # Remove ticker\n",
    "    if 'Price' in selected_df.columns:\n",
    "        selected_df = selected_df[selected_df['Price'] != 'Ticker']\n",
    "    \n",
    "    # Continuously Compound Rate\n",
    "    selected_df['Change'] = np.log(selected_df['Close'] / selected_df['Close'].shift(1))\n",
    "    \n",
    "    # Change date to column by resetting te index\n",
    "    selected_df.reset_index(inplace=True)\n",
    "    \n",
    "    # initial date in df for merging\n",
    "    if i == 0:\n",
    "        df['Date'] = selected_df['Date']\n",
    "    \n",
    "    mer_df = selected_df[['Date', \n",
    "                          'Close', \n",
    "                          'Change'\n",
    "                          ]].copy()\n",
    "    mer_df = mer_df.rename(columns={'Close': 'Close ' + inp, \n",
    "                                    'Change': inp})\n",
    "    \n",
    "    df = pd.merge(df, mer_df, on='Date', how='outer')\n",
    "\n",
    "# First row's change is NaN\n",
    "df = df.iloc[1:]\n",
    "\n",
    "print(df.head())\n",
    "\n",
    "# Save to Excel\n",
    "with pd.ExcelWriter(fileName, engine='openpyxl', mode='w') as writer:\n",
    "    df.to_excel(writer, sheet_name='Combined', index=False)"
   ]
  },
  {
   "cell_type": "code",
   "execution_count": 10,
   "metadata": {},
   "outputs": [
    {
     "name": "stdout",
     "output_type": "stream",
     "text": [
      "        Date     ^IXIC    AAPL     AMT    AMZN     APD    BAC     BX    CCZ    EP     JNJ     JPM    PCG   SHEL      T     TMO    TSLA     TSM    VRTX     VZ      WM    XOM\n",
      "1 2021-02-01  13192.35  118.57  193.17  154.65  231.84  31.47  60.05  56.07  2.00  141.69  132.26  10.47  35.46  15.89  445.78  225.17  117.37  212.55  43.50  104.02  46.07\n",
      "2 2021-03-01  13246.87  119.62  213.67  154.70  255.17  35.08  65.54  59.69  6.48  147.87  136.81  11.67  34.17  17.25  452.02  222.64  110.23  214.89  45.75  121.03  48.11\n",
      "3 2021-04-01  13962.68  128.74  227.71  173.37  263.04  36.93  77.81  56.47  7.60  146.41  138.23  11.28  33.12  17.90  466.01  236.48  109.21  218.20  45.46  130.04  49.32\n",
      "4 2021-05-01  13748.74  122.03  229.51  161.15  273.24  38.63  82.24  61.55  8.53  152.28  148.47  10.10  33.65  17.15  465.28  208.41  109.79  208.63  44.92  132.59  50.30\n",
      "5 2021-06-01  14503.95  134.35  242.70  172.01  262.31  37.57  86.21  58.41  7.12  149.14  140.60  10.13  35.52  16.77  499.94  226.57  112.40  201.63  44.55  132.06  55.15\n"
     ]
    }
   ],
   "source": [
    "df = pd.DataFrame()\n",
    "\n",
    "for i, inp in enumerate(stockList):\n",
    "    selected_df = yf.download(inp, \n",
    "                              start=sDate, \n",
    "                              end=eDate, \n",
    "                              interval='1mo', \n",
    "                              rounding=2, \n",
    "                              progress=False)\n",
    "    \n",
    "    # Flat the multiindex\n",
    "    if isinstance(selected_df.columns, pd.MultiIndex):\n",
    "        selected_df.columns = selected_df.columns.get_level_values(0)\n",
    "    \n",
    "    # Remove ticker\n",
    "    if 'Price' in selected_df.columns:\n",
    "        selected_df = selected_df[selected_df['Price'] != 'Ticker']\n",
    "    \n",
    "    # Continuously Compound Rate\n",
    "    selected_df['Change'] = np.log(selected_df['Close'] / selected_df['Close'].shift(1))\n",
    "    \n",
    "    # Change date to column by resetting te index\n",
    "    selected_df.reset_index(inplace=True)\n",
    "    \n",
    "    # initial date in df for merging\n",
    "    if i == 0:\n",
    "        df['Date'] = selected_df['Date']\n",
    "    \n",
    "    mer_df = selected_df[['Date', \n",
    "                          'Close', \n",
    "                          ]].copy()\n",
    "    mer_df = mer_df.rename(columns={'Close': inp})\n",
    "    \n",
    "    df = pd.merge(df, mer_df, on='Date', how='outer')\n",
    "\n",
    "# First row's change is NaN\n",
    "df = df.iloc[1:]\n",
    "\n",
    "print(df.head())\n",
    "\n",
    "# Save to Excel\n",
    "with pd.ExcelWriter(fileName, engine='openpyxl', mode='w') as writer:\n",
    "    df.to_excel(writer, sheet_name='Combined', index=False)"
   ]
  }
 ],
 "metadata": {
  "kernelspec": {
   "display_name": "3.12.5",
   "language": "python",
   "name": "python3"
  },
  "language_info": {
   "codemirror_mode": {
    "name": "ipython",
    "version": 3
   },
   "file_extension": ".py",
   "mimetype": "text/x-python",
   "name": "python",
   "nbconvert_exporter": "python",
   "pygments_lexer": "ipython3",
   "version": "3.12.5"
  }
 },
 "nbformat": 4,
 "nbformat_minor": 2
}
